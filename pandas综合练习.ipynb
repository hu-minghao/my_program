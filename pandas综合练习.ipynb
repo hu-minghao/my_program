{
 "cells": [
  {
   "cell_type": "code",
   "execution_count": 1,
   "metadata": {},
   "outputs": [
    {
     "name": "stderr",
     "output_type": "stream",
     "text": [
      "C:\\ProgramData\\Anaconda3\\lib\\importlib\\_bootstrap.py:219: RuntimeWarning: numpy.ufunc size changed, may indicate binary incompatibility. Expected 192 from C header, got 216 from PyObject\n",
      "  return f(*args, **kwds)\n"
     ]
    }
   ],
   "source": [
    "import pandas as pd\n",
    "import numpy as np\n",
    "import matplotlib.pyplot as plt"
   ]
  },
  {
   "cell_type": "code",
   "execution_count": 3,
   "metadata": {},
   "outputs": [],
   "source": [
    "file_path=r'E:\\Machine Learning\\team-learning-master'\n",
    "data1=r'\\端午粽子数据.csv'\n",
    "data2=r'\\摩拜单车数据.csv'\n",
    "data3=r'\\墨尔本温度数据.csv'"
   ]
  },
  {
   "cell_type": "markdown",
   "metadata": {},
   "source": [
    "## 一.端午节的淘宝粽子交易\n",
    "问题\n",
    "\n",
    "(1) 请删除最后一列为缺失值的行，并求所有在杭州发货的商品单价均值。\n",
    "\n",
    "(2) 商品标题带有“嘉兴”但发货地却不在嘉兴的商品有多少条记录？\n",
    "\n",
    "(3) 请按照分位数将价格分为“高、较高、中、较低、低”5 个类别，再将\n",
    "\n",
    "类别结果插入到标题一列之后，最后对类别列进行降序排序。\n",
    "\n",
    "(4) 付款人数一栏有缺失值吗？若有则请利用上一问的分类结果对这些缺失\n",
    "值进行合理估计并填充。\n",
    "\n",
    "(5) 请将数据后四列合并为如下格式的 Series：商品发货地为 ××，店铺为\n",
    "××，共计 ×× 人付款，单价为 ××。\n",
    "\n",
    "(6) 请将上一问中的结果恢复成原来的四列。"
   ]
  },
  {
   "cell_type": "code",
   "execution_count": 4,
   "metadata": {
    "scrolled": true
   },
   "outputs": [
    {
     "data": {
      "text/html": [
       "<div>\n",
       "<style scoped>\n",
       "    .dataframe tbody tr th:only-of-type {\n",
       "        vertical-align: middle;\n",
       "    }\n",
       "\n",
       "    .dataframe tbody tr th {\n",
       "        vertical-align: top;\n",
       "    }\n",
       "\n",
       "    .dataframe thead th {\n",
       "        text-align: right;\n",
       "    }\n",
       "</style>\n",
       "<table border=\"1\" class=\"dataframe\">\n",
       "  <thead>\n",
       "    <tr style=\"text-align: right;\">\n",
       "      <th></th>\n",
       "      <th>标题</th>\n",
       "      <th>价格</th>\n",
       "      <th>付款人数</th>\n",
       "      <th>店铺</th>\n",
       "      <th>发货地址</th>\n",
       "    </tr>\n",
       "  </thead>\n",
       "  <tbody>\n",
       "    <tr>\n",
       "      <th>0</th>\n",
       "      <td>五芳斋粽子礼盒 心悦+18只装咸鸭蛋组合端午节礼品团购嘉兴肉粽子</td>\n",
       "      <td>129</td>\n",
       "      <td>6人付款</td>\n",
       "      <td>五芳斋官方旗舰店</td>\n",
       "      <td>浙江 嘉兴</td>\n",
       "    </tr>\n",
       "    <tr>\n",
       "      <th>1</th>\n",
       "      <td>北京稻香村端午粽子手工豆沙粽220g*2袋散装豆沙粽香甜软糯豆沙粽</td>\n",
       "      <td>44</td>\n",
       "      <td>8人付款</td>\n",
       "      <td>天猫超市</td>\n",
       "      <td>上海</td>\n",
       "    </tr>\n",
       "    <tr>\n",
       "      <th>2</th>\n",
       "      <td>五芳斋粽子礼盒装鲜肉咸蛋黄大肉粽嘉兴豆沙甜粽端午团购散装礼品</td>\n",
       "      <td>89.9</td>\n",
       "      <td>100万+人付款</td>\n",
       "      <td>五芳斋官方旗舰店</td>\n",
       "      <td>浙江 嘉兴</td>\n",
       "    </tr>\n",
       "    <tr>\n",
       "      <th>3</th>\n",
       "      <td>稻香私房鲜肉粽蛋黄肉粽嘉兴粽子咸鸭蛋礼盒装端午节送礼特产团购</td>\n",
       "      <td>138</td>\n",
       "      <td>1936人付款</td>\n",
       "      <td>稻香村食品旗舰店</td>\n",
       "      <td>北京</td>\n",
       "    </tr>\n",
       "    <tr>\n",
       "      <th>4</th>\n",
       "      <td>嘉兴粽子 蛋黄鲜肉粽新鲜大肉粽早餐散装团购浙江特产蜜枣多口味</td>\n",
       "      <td>3.8</td>\n",
       "      <td>9500+人付款</td>\n",
       "      <td>城城喂食猫</td>\n",
       "      <td>浙江 嘉兴</td>\n",
       "    </tr>\n",
       "  </tbody>\n",
       "</table>\n",
       "</div>"
      ],
      "text/plain": [
       "                                  标题    价格      付款人数        店铺  发货地址 \n",
       "0   五芳斋粽子礼盒 心悦+18只装咸鸭蛋组合端午节礼品团购嘉兴肉粽子   129      6人付款  五芳斋官方旗舰店  浙江 嘉兴\n",
       "1  北京稻香村端午粽子手工豆沙粽220g*2袋散装豆沙粽香甜软糯豆沙粽    44      8人付款      天猫超市     上海\n",
       "2     五芳斋粽子礼盒装鲜肉咸蛋黄大肉粽嘉兴豆沙甜粽端午团购散装礼品  89.9  100万+人付款  五芳斋官方旗舰店  浙江 嘉兴\n",
       "3     稻香私房鲜肉粽蛋黄肉粽嘉兴粽子咸鸭蛋礼盒装端午节送礼特产团购   138   1936人付款  稻香村食品旗舰店     北京\n",
       "4     嘉兴粽子 蛋黄鲜肉粽新鲜大肉粽早餐散装团购浙江特产蜜枣多口味   3.8  9500+人付款     城城喂食猫  浙江 嘉兴"
      ]
     },
     "execution_count": 4,
     "metadata": {},
     "output_type": "execute_result"
    }
   ],
   "source": [
    "df1=pd.read_csv(file_path+data1)\n",
    "df1.head()"
   ]
  },
  {
   "cell_type": "markdown",
   "metadata": {},
   "source": [
    "第一题"
   ]
  },
  {
   "cell_type": "code",
   "execution_count": 15,
   "metadata": {},
   "outputs": [],
   "source": [
    "df1.dropna(axis=0, how='any', subset=['发货地址 '],inplace=True)"
   ]
  },
  {
   "cell_type": "code",
   "execution_count": 16,
   "metadata": {},
   "outputs": [
    {
     "data": {
      "text/plain": [
       "4400"
      ]
     },
     "execution_count": 16,
     "metadata": {},
     "output_type": "execute_result"
    }
   ],
   "source": [
    "len(df1)#4403，删除了3个含缺失值的行，剩余4400行"
   ]
  },
  {
   "cell_type": "code",
   "execution_count": 19,
   "metadata": {},
   "outputs": [
    {
     "data": {
      "text/plain": [
       "Index(['标题', ' 价格', '付款人数', '店铺', '发货地址 '], dtype='object')"
      ]
     },
     "execution_count": 19,
     "metadata": {},
     "output_type": "execute_result"
    }
   ],
   "source": [
    "df1.columns#注意空格"
   ]
  },
  {
   "cell_type": "code",
   "execution_count": 22,
   "metadata": {},
   "outputs": [
    {
     "name": "stdout",
     "output_type": "stream",
     "text": [
      "<class 'pandas.core.frame.DataFrame'>\n",
      "Int64Index: 4400 entries, 0 to 4402\n",
      "Data columns (total 5 columns):\n",
      " #   Column  Non-Null Count  Dtype \n",
      "---  ------  --------------  ----- \n",
      " 0   标题      4400 non-null   object\n",
      " 1    价格     4400 non-null   object\n",
      " 2   付款人数    4329 non-null   object\n",
      " 3   店铺      4400 non-null   object\n",
      " 4   发货地址    4400 non-null   object\n",
      "dtypes: object(5)\n",
      "memory usage: 206.2+ KB\n"
     ]
    }
   ],
   "source": [
    "df1.info()#真是很神奇的数据格式，全为object"
   ]
  },
  {
   "cell_type": "code",
   "execution_count": 34,
   "metadata": {},
   "outputs": [
    {
     "data": {
      "text/plain": [
       "81.50651685393247"
      ]
     },
     "execution_count": 34,
     "metadata": {},
     "output_type": "execute_result"
    }
   ],
   "source": [
    "#使用正则匹配，将不符合条件的数据排除，只计算符合条件数据\n",
    "df1[df1['发货地址 ']=='浙江 杭州'][' 价格'][(df1[' 价格'].str.replace(r'\\d+\\.?\\d+','True')=='True')].astype('float').mean()"
   ]
  },
  {
   "cell_type": "code",
   "execution_count": 35,
   "metadata": {},
   "outputs": [
    {
     "name": "stderr",
     "output_type": "stream",
     "text": [
      "C:\\ProgramData\\Anaconda3\\lib\\site-packages\\ipykernel_launcher.py:2: UserWarning: Boolean Series key will be reindexed to match DataFrame index.\n",
      "  \n"
     ]
    },
    {
     "data": {
      "text/html": [
       "<div>\n",
       "<style scoped>\n",
       "    .dataframe tbody tr th:only-of-type {\n",
       "        vertical-align: middle;\n",
       "    }\n",
       "\n",
       "    .dataframe tbody tr th {\n",
       "        vertical-align: top;\n",
       "    }\n",
       "\n",
       "    .dataframe thead th {\n",
       "        text-align: right;\n",
       "    }\n",
       "</style>\n",
       "<table border=\"1\" class=\"dataframe\">\n",
       "  <thead>\n",
       "    <tr style=\"text-align: right;\">\n",
       "      <th></th>\n",
       "      <th>标题</th>\n",
       "      <th>价格</th>\n",
       "      <th>付款人数</th>\n",
       "      <th>店铺</th>\n",
       "      <th>发货地址</th>\n",
       "    </tr>\n",
       "  </thead>\n",
       "  <tbody>\n",
       "    <tr>\n",
       "      <th>4146</th>\n",
       "      <td>美珍妈妈粽子甜粽 红豆粽豆沙粽红豆蜜枣粽白米粽多口味嘉兴粽子</td>\n",
       "      <td>9</td>\n",
       "      <td>611人付款</td>\n",
       "      <td>美珍粽子</td>\n",
       "      <td>浙江 杭州</td>\n",
       "    </tr>\n",
       "    <tr>\n",
       "      <th>4376</th>\n",
       "      <td>东方贺礼端午节礼盒嘉兴粽子高汤蛋黄鲜大肉粽特产现已支持定制</td>\n",
       "      <td>45</td>\n",
       "      <td>17人付款</td>\n",
       "      <td>缘来有礼</td>\n",
       "      <td>浙江 杭州</td>\n",
       "    </tr>\n",
       "  </tbody>\n",
       "</table>\n",
       "</div>"
      ],
      "text/plain": [
       "                                  标题  价格    付款人数    店铺  发货地址 \n",
       "4146  美珍妈妈粽子甜粽 红豆粽豆沙粽红豆蜜枣粽白米粽多口味嘉兴粽子   9  611人付款  美珍粽子  浙江 杭州\n",
       "4376   东方贺礼端午节礼盒嘉兴粽子高汤蛋黄鲜大肉粽特产现已支持定制  45   17人付款  缘来有礼  浙江 杭州"
      ]
     },
     "execution_count": 35,
     "metadata": {},
     "output_type": "execute_result"
    }
   ],
   "source": [
    "#看一下不符合条件的数据，可以看到只有4376，这里稍微修改一下\n",
    "df1[df1['发货地址 ']=='浙江 杭州'][~(df1[' 价格'].str.replace(r'\\d+\\.?\\d+','True')=='True')]"
   ]
  },
  {
   "cell_type": "code",
   "execution_count": 33,
   "metadata": {},
   "outputs": [],
   "source": [
    "df1.loc[4376,' 价格']=45"
   ]
  },
  {
   "cell_type": "code",
   "execution_count": 38,
   "metadata": {},
   "outputs": [
    {
     "data": {
      "text/plain": [
       "80.90088888888877"
      ]
     },
     "execution_count": 38,
     "metadata": {},
     "output_type": "execute_result"
    }
   ],
   "source": [
    "df1[df1['发货地址 ']=='浙江 杭州'][' 价格'].astype('float').mean()"
   ]
  },
  {
   "cell_type": "markdown",
   "metadata": {},
   "source": [
    "第二题"
   ]
  },
  {
   "cell_type": "code",
   "execution_count": 43,
   "metadata": {},
   "outputs": [
    {
     "name": "stderr",
     "output_type": "stream",
     "text": [
      "C:\\ProgramData\\Anaconda3\\lib\\site-packages\\ipykernel_launcher.py:1: UserWarning: Boolean Series key will be reindexed to match DataFrame index.\n",
      "  \"\"\"Entry point for launching an IPython kernel.\n"
     ]
    },
    {
     "data": {
      "text/plain": [
       "1032"
      ]
     },
     "execution_count": 43,
     "metadata": {},
     "output_type": "execute_result"
    }
   ],
   "source": [
    "df1[df1['发货地址 ']!='浙江 嘉兴'][(df1['标题'].str.replace('.*嘉兴.*','True')=='True')]['标题'].count()"
   ]
  },
  {
   "cell_type": "markdown",
   "metadata": {},
   "source": [
    "第三题"
   ]
  },
  {
   "cell_type": "code",
   "execution_count": 45,
   "metadata": {},
   "outputs": [
    {
     "data": {
      "text/plain": [
       "73.65447272727197"
      ]
     },
     "execution_count": 45,
     "metadata": {},
     "output_type": "execute_result"
    }
   ],
   "source": [
    "df1[' 价格']=df1[' 价格'].astype('float')\n",
    "df1[' 价格'].mean()"
   ]
  },
  {
   "cell_type": "code",
   "execution_count": 61,
   "metadata": {
    "collapsed": true
   },
   "outputs": [
    {
     "data": {
      "text/html": [
       "<div>\n",
       "<style scoped>\n",
       "    .dataframe tbody tr th:only-of-type {\n",
       "        vertical-align: middle;\n",
       "    }\n",
       "\n",
       "    .dataframe tbody tr th {\n",
       "        vertical-align: top;\n",
       "    }\n",
       "\n",
       "    .dataframe thead th {\n",
       "        text-align: right;\n",
       "    }\n",
       "</style>\n",
       "<table border=\"1\" class=\"dataframe\">\n",
       "  <thead>\n",
       "    <tr style=\"text-align: right;\">\n",
       "      <th></th>\n",
       "      <th>标题</th>\n",
       "      <th>价格类型</th>\n",
       "      <th>价格</th>\n",
       "      <th>付款人数</th>\n",
       "      <th>店铺</th>\n",
       "      <th>发货地址</th>\n",
       "    </tr>\n",
       "  </thead>\n",
       "  <tbody>\n",
       "    <tr>\n",
       "      <th>3136</th>\n",
       "      <td>包邮端午节大家乐大黄米粽子蜜枣红豆沙榴莲蛋黄肉梅菜肉馅团订</td>\n",
       "      <td>低</td>\n",
       "      <td>19.0</td>\n",
       "      <td>95人付款</td>\n",
       "      <td>大家乐网上专卖店</td>\n",
       "      <td>山东 烟台</td>\n",
       "    </tr>\n",
       "    <tr>\n",
       "      <th>3698</th>\n",
       "      <td>广州酒家肇庆裹蒸粽碱水粽广东粽子利口福蛋黄肉粽豆沙甜粽团购</td>\n",
       "      <td>低</td>\n",
       "      <td>19.8</td>\n",
       "      <td>30人付款</td>\n",
       "      <td>广东东邮食品专营店</td>\n",
       "      <td>广东 东莞</td>\n",
       "    </tr>\n",
       "    <tr>\n",
       "      <th>3700</th>\n",
       "      <td>贞妃贞丰粽子 贵州特产 鲜肉板栗排骨灰粽超大粽咸味散装农家手工</td>\n",
       "      <td>低</td>\n",
       "      <td>16.8</td>\n",
       "      <td>48人付款</td>\n",
       "      <td>锋行食品专营店</td>\n",
       "      <td>贵州 黔西南</td>\n",
       "    </tr>\n",
       "    <tr>\n",
       "      <th>3155</th>\n",
       "      <td>嘉兴蛋黄鲜肉粽红豆粽蜜枣粽排骨粽早餐鲜肉粽端午节团购批发粽子</td>\n",
       "      <td>低</td>\n",
       "      <td>20.9</td>\n",
       "      <td>1.5万+人付款</td>\n",
       "      <td>健谷鲜旗舰店</td>\n",
       "      <td>浙江 温州</td>\n",
       "    </tr>\n",
       "    <tr>\n",
       "      <th>3706</th>\n",
       "      <td>「刘叔叔手作」独家秘制新鲜蛋黄梅菜瘦肉手工长粽子长条 鲜肉粽</td>\n",
       "      <td>低</td>\n",
       "      <td>13.0</td>\n",
       "      <td>234人付款</td>\n",
       "      <td>轻描淡写68</td>\n",
       "      <td>重庆</td>\n",
       "    </tr>\n",
       "    <tr>\n",
       "      <th>...</th>\n",
       "      <td>...</td>\n",
       "      <td>...</td>\n",
       "      <td>...</td>\n",
       "      <td>...</td>\n",
       "      <td>...</td>\n",
       "      <td>...</td>\n",
       "    </tr>\n",
       "    <tr>\n",
       "      <th>1068</th>\n",
       "      <td>【天猫福宝专享】五芳斋丰年五芳粽子礼盒装蛋黄肉粽大肉粽子嘉兴</td>\n",
       "      <td>高</td>\n",
       "      <td>199.0</td>\n",
       "      <td>88人付款</td>\n",
       "      <td>五芳斋官方旗舰店</td>\n",
       "      <td>浙江 嘉兴</td>\n",
       "    </tr>\n",
       "    <tr>\n",
       "      <th>1096</th>\n",
       "      <td>泉州特产蓝氏鲜肉粽子2000克早餐东街钟楼闽南烧肉粽端午团购礼盒</td>\n",
       "      <td>高</td>\n",
       "      <td>158.0</td>\n",
       "      <td>22人付款</td>\n",
       "      <td>蓝氏钟楼旗舰店</td>\n",
       "      <td>福建 泉州</td>\n",
       "    </tr>\n",
       "    <tr>\n",
       "      <th>0</th>\n",
       "      <td>五芳斋粽子礼盒 心悦+18只装咸鸭蛋组合端午节礼品团购嘉兴肉粽子</td>\n",
       "      <td>高</td>\n",
       "      <td>129.0</td>\n",
       "      <td>6人付款</td>\n",
       "      <td>五芳斋官方旗舰店</td>\n",
       "      <td>浙江 嘉兴</td>\n",
       "    </tr>\n",
       "    <tr>\n",
       "      <th>1548</th>\n",
       "      <td>久知味醇香鲜肉粽135g 真空粽嘉兴特产粽子速食早餐</td>\n",
       "      <td>NaN</td>\n",
       "      <td>2.8</td>\n",
       "      <td>NaN</td>\n",
       "      <td>天猫会员店</td>\n",
       "      <td>上海</td>\n",
       "    </tr>\n",
       "    <tr>\n",
       "      <th>1760</th>\n",
       "      <td>久知味润香细沙粽135g 真空粽嘉兴特产粽子速食早餐</td>\n",
       "      <td>NaN</td>\n",
       "      <td>2.8</td>\n",
       "      <td>NaN</td>\n",
       "      <td>天猫会员店</td>\n",
       "      <td>上海</td>\n",
       "    </tr>\n",
       "  </tbody>\n",
       "</table>\n",
       "<p>4400 rows × 6 columns</p>\n",
       "</div>"
      ],
      "text/plain": [
       "                                    标题 价格类型     价格      付款人数         店铺  \\\n",
       "3136     包邮端午节大家乐大黄米粽子蜜枣红豆沙榴莲蛋黄肉梅菜肉馅团订    低   19.0     95人付款   大家乐网上专卖店   \n",
       "3698     广州酒家肇庆裹蒸粽碱水粽广东粽子利口福蛋黄肉粽豆沙甜粽团购    低   19.8     30人付款  广东东邮食品专营店   \n",
       "3700   贞妃贞丰粽子 贵州特产 鲜肉板栗排骨灰粽超大粽咸味散装农家手工    低   16.8     48人付款    锋行食品专营店   \n",
       "3155    嘉兴蛋黄鲜肉粽红豆粽蜜枣粽排骨粽早餐鲜肉粽端午节团购批发粽子    低   20.9  1.5万+人付款     健谷鲜旗舰店   \n",
       "3706    「刘叔叔手作」独家秘制新鲜蛋黄梅菜瘦肉手工长粽子长条 鲜肉粽    低   13.0    234人付款     轻描淡写68   \n",
       "...                                ...  ...    ...       ...        ...   \n",
       "1068    【天猫福宝专享】五芳斋丰年五芳粽子礼盒装蛋黄肉粽大肉粽子嘉兴    高  199.0     88人付款   五芳斋官方旗舰店   \n",
       "1096  泉州特产蓝氏鲜肉粽子2000克早餐东街钟楼闽南烧肉粽端午团购礼盒    高  158.0     22人付款    蓝氏钟楼旗舰店   \n",
       "0     五芳斋粽子礼盒 心悦+18只装咸鸭蛋组合端午节礼品团购嘉兴肉粽子    高  129.0      6人付款   五芳斋官方旗舰店   \n",
       "1548        久知味醇香鲜肉粽135g 真空粽嘉兴特产粽子速食早餐  NaN    2.8       NaN      天猫会员店   \n",
       "1760        久知味润香细沙粽135g 真空粽嘉兴特产粽子速食早餐  NaN    2.8       NaN      天猫会员店   \n",
       "\n",
       "       发货地址   \n",
       "3136   山东 烟台  \n",
       "3698   广东 东莞  \n",
       "3700  贵州 黔西南  \n",
       "3155   浙江 温州  \n",
       "3706      重庆  \n",
       "...      ...  \n",
       "1068   浙江 嘉兴  \n",
       "1096   福建 泉州  \n",
       "0      浙江 嘉兴  \n",
       "1548      上海  \n",
       "1760      上海  \n",
       "\n",
       "[4400 rows x 6 columns]"
      ]
     },
     "execution_count": 61,
     "metadata": {},
     "output_type": "execute_result"
    }
   ],
   "source": [
    "cutlist=[df1[' 价格'].quantile(x) for x in np.linspace(0,1,6)]\n",
    "label=['高','较高','中','较低','低']\n",
    "label.reverse()\n",
    "df1['价格类型']=pd.cut(df1[' 价格'],cutlist,labels=label)\n",
    "col=['标题','价格类型',' 价格','付款人数', '店铺', '发货地址 ']\n",
    "df1=df1[col]"
   ]
  },
  {
   "cell_type": "code",
   "execution_count": 63,
   "metadata": {},
   "outputs": [
    {
     "data": {
      "text/html": [
       "<div>\n",
       "<style scoped>\n",
       "    .dataframe tbody tr th:only-of-type {\n",
       "        vertical-align: middle;\n",
       "    }\n",
       "\n",
       "    .dataframe tbody tr th {\n",
       "        vertical-align: top;\n",
       "    }\n",
       "\n",
       "    .dataframe thead th {\n",
       "        text-align: right;\n",
       "    }\n",
       "</style>\n",
       "<table border=\"1\" class=\"dataframe\">\n",
       "  <thead>\n",
       "    <tr style=\"text-align: right;\">\n",
       "      <th></th>\n",
       "      <th>标题</th>\n",
       "      <th>价格类型</th>\n",
       "      <th>价格</th>\n",
       "      <th>付款人数</th>\n",
       "      <th>店铺</th>\n",
       "      <th>发货地址</th>\n",
       "    </tr>\n",
       "  </thead>\n",
       "  <tbody>\n",
       "    <tr>\n",
       "      <th>0</th>\n",
       "      <td>五芳斋粽子礼盒 心悦+18只装咸鸭蛋组合端午节礼品团购嘉兴肉粽子</td>\n",
       "      <td>高</td>\n",
       "      <td>129.0</td>\n",
       "      <td>6人付款</td>\n",
       "      <td>五芳斋官方旗舰店</td>\n",
       "      <td>浙江 嘉兴</td>\n",
       "    </tr>\n",
       "    <tr>\n",
       "      <th>660</th>\n",
       "      <td>五芳斋粽子百年五芳礼品粽大肉粽豆沙粽嘉兴粽子礼盒装 批发团购</td>\n",
       "      <td>高</td>\n",
       "      <td>328.0</td>\n",
       "      <td>20人付款</td>\n",
       "      <td>伟弘食品专营店</td>\n",
       "      <td>上海</td>\n",
       "    </tr>\n",
       "    <tr>\n",
       "      <th>1945</th>\n",
       "      <td>好利来礼盒粽子好礼香棕顺丰包邮沈阳发货员工福利采购团购优惠</td>\n",
       "      <td>高</td>\n",
       "      <td>109.0</td>\n",
       "      <td>11人付款</td>\n",
       "      <td>木宝很开心</td>\n",
       "      <td>辽宁 沈阳</td>\n",
       "    </tr>\n",
       "    <tr>\n",
       "      <th>1197</th>\n",
       "      <td>诸老大粽子诸事欢禧礼盒嘉兴特产蛋黄黑猪肉粽咸蛋端午送礼团购</td>\n",
       "      <td>高</td>\n",
       "      <td>180.0</td>\n",
       "      <td>20人付款</td>\n",
       "      <td>诸老大旗舰店</td>\n",
       "      <td>浙江 嘉兴</td>\n",
       "    </tr>\n",
       "    <tr>\n",
       "      <th>3171</th>\n",
       "      <td>重庆莎莲娜四川粽子端午节礼盒装团购2100g送礼领导送客户多口味</td>\n",
       "      <td>高</td>\n",
       "      <td>228.0</td>\n",
       "      <td>52人付款</td>\n",
       "      <td>melonsha88</td>\n",
       "      <td>重庆</td>\n",
       "    </tr>\n",
       "  </tbody>\n",
       "</table>\n",
       "</div>"
      ],
      "text/plain": [
       "                                    标题 价格类型     价格   付款人数          店铺  发货地址 \n",
       "0     五芳斋粽子礼盒 心悦+18只装咸鸭蛋组合端午节礼品团购嘉兴肉粽子    高  129.0   6人付款    五芳斋官方旗舰店  浙江 嘉兴\n",
       "660     五芳斋粽子百年五芳礼品粽大肉粽豆沙粽嘉兴粽子礼盒装 批发团购    高  328.0  20人付款     伟弘食品专营店     上海\n",
       "1945     好利来礼盒粽子好礼香棕顺丰包邮沈阳发货员工福利采购团购优惠    高  109.0  11人付款       木宝很开心  辽宁 沈阳\n",
       "1197     诸老大粽子诸事欢禧礼盒嘉兴特产蛋黄黑猪肉粽咸蛋端午送礼团购    高  180.0  20人付款      诸老大旗舰店  浙江 嘉兴\n",
       "3171  重庆莎莲娜四川粽子端午节礼盒装团购2100g送礼领导送客户多口味    高  228.0  52人付款  melonsha88     重庆"
      ]
     },
     "execution_count": 63,
     "metadata": {},
     "output_type": "execute_result"
    }
   ],
   "source": [
    "df1.sort_values(by='价格类型',ascending=False).head()"
   ]
  },
  {
   "cell_type": "markdown",
   "metadata": {},
   "source": [
    "第四题"
   ]
  },
  {
   "cell_type": "code",
   "execution_count": 57,
   "metadata": {},
   "outputs": [],
   "source": [
    "#取价格类型为相同的组中付款人数做均值填充\n",
    "df1.groupby('价格类型').apply(x.fillna())"
   ]
  },
  {
   "cell_type": "code",
   "execution_count": 58,
   "metadata": {},
   "outputs": [
    {
     "data": {
      "text/html": [
       "<div>\n",
       "<style scoped>\n",
       "    .dataframe tbody tr th:only-of-type {\n",
       "        vertical-align: middle;\n",
       "    }\n",
       "\n",
       "    .dataframe tbody tr th {\n",
       "        vertical-align: top;\n",
       "    }\n",
       "\n",
       "    .dataframe thead th {\n",
       "        text-align: right;\n",
       "    }\n",
       "</style>\n",
       "<table border=\"1\" class=\"dataframe\">\n",
       "  <thead>\n",
       "    <tr style=\"text-align: right;\">\n",
       "      <th></th>\n",
       "      <th>标题</th>\n",
       "      <th>价格</th>\n",
       "      <th>付款人数</th>\n",
       "      <th>店铺</th>\n",
       "      <th>发货地址</th>\n",
       "    </tr>\n",
       "  </thead>\n",
       "  <tbody>\n",
       "    <tr>\n",
       "      <th>0</th>\n",
       "      <td>五芳斋粽子礼盒 心悦+18只装咸鸭蛋组合端午节礼品团购嘉兴肉粽子</td>\n",
       "      <td>129.0</td>\n",
       "      <td>6人付款</td>\n",
       "      <td>五芳斋官方旗舰店</td>\n",
       "      <td>浙江 嘉兴</td>\n",
       "    </tr>\n",
       "    <tr>\n",
       "      <th>1</th>\n",
       "      <td>北京稻香村端午粽子手工豆沙粽220g*2袋散装豆沙粽香甜软糯豆沙粽</td>\n",
       "      <td>44.0</td>\n",
       "      <td>8人付款</td>\n",
       "      <td>天猫超市</td>\n",
       "      <td>上海</td>\n",
       "    </tr>\n",
       "    <tr>\n",
       "      <th>2</th>\n",
       "      <td>五芳斋粽子礼盒装鲜肉咸蛋黄大肉粽嘉兴豆沙甜粽端午团购散装礼品</td>\n",
       "      <td>89.9</td>\n",
       "      <td>100万+人付款</td>\n",
       "      <td>五芳斋官方旗舰店</td>\n",
       "      <td>浙江 嘉兴</td>\n",
       "    </tr>\n",
       "    <tr>\n",
       "      <th>3</th>\n",
       "      <td>稻香私房鲜肉粽蛋黄肉粽嘉兴粽子咸鸭蛋礼盒装端午节送礼特产团购</td>\n",
       "      <td>138.0</td>\n",
       "      <td>1936人付款</td>\n",
       "      <td>稻香村食品旗舰店</td>\n",
       "      <td>北京</td>\n",
       "    </tr>\n",
       "    <tr>\n",
       "      <th>4</th>\n",
       "      <td>嘉兴粽子 蛋黄鲜肉粽新鲜大肉粽早餐散装团购浙江特产蜜枣多口味</td>\n",
       "      <td>3.8</td>\n",
       "      <td>9500+人付款</td>\n",
       "      <td>城城喂食猫</td>\n",
       "      <td>浙江 嘉兴</td>\n",
       "    </tr>\n",
       "  </tbody>\n",
       "</table>\n",
       "</div>"
      ],
      "text/plain": [
       "                                  标题     价格      付款人数        店铺  发货地址 \n",
       "0   五芳斋粽子礼盒 心悦+18只装咸鸭蛋组合端午节礼品团购嘉兴肉粽子  129.0      6人付款  五芳斋官方旗舰店  浙江 嘉兴\n",
       "1  北京稻香村端午粽子手工豆沙粽220g*2袋散装豆沙粽香甜软糯豆沙粽   44.0      8人付款      天猫超市     上海\n",
       "2     五芳斋粽子礼盒装鲜肉咸蛋黄大肉粽嘉兴豆沙甜粽端午团购散装礼品   89.9  100万+人付款  五芳斋官方旗舰店  浙江 嘉兴\n",
       "3     稻香私房鲜肉粽蛋黄肉粽嘉兴粽子咸鸭蛋礼盒装端午节送礼特产团购  138.0   1936人付款  稻香村食品旗舰店     北京\n",
       "4     嘉兴粽子 蛋黄鲜肉粽新鲜大肉粽早餐散装团购浙江特产蜜枣多口味    3.8  9500+人付款     城城喂食猫  浙江 嘉兴"
      ]
     },
     "execution_count": 58,
     "metadata": {},
     "output_type": "execute_result"
    }
   ],
   "source": [
    "df1.head()"
   ]
  },
  {
   "cell_type": "code",
   "execution_count": null,
   "metadata": {},
   "outputs": [],
   "source": []
  }
 ],
 "metadata": {
  "kernelspec": {
   "display_name": "Python 3",
   "language": "python",
   "name": "python3"
  },
  "language_info": {
   "codemirror_mode": {
    "name": "ipython",
    "version": 3
   },
   "file_extension": ".py",
   "mimetype": "text/x-python",
   "name": "python",
   "nbconvert_exporter": "python",
   "pygments_lexer": "ipython3",
   "version": "3.7.0"
  }
 },
 "nbformat": 4,
 "nbformat_minor": 2
}
